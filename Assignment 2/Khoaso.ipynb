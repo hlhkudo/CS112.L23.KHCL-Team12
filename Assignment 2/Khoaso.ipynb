{
 "cells": [
  {
   "cell_type": "markdown",
   "metadata": {
    "id": "uR1csHYWqv_h"
   },
   "source": [
    "# Khóa số (0.15s, 50MB)\n",
    "**Đề bài**\n",
    "\n",
    "Để tăng độ an toàn chống hiện tượng cướp ngân hàng ngày càng phổ biến người ta dùng khóa số với mã mở khóa đơn giản nhưng rất hiệu quả. Trên cửa ra vào hiển thị một xâu khá dài các ký tự số. Các chữ số có thể di chuyển đổi chổ cho nhau hoặc bị xóa. Muốn mở khóa người ta phải di chuyển các chữ số và trong trường hợp cần thiết – xóa vài chữ số để nhận được _xâu lớn nhất_ thỏa mãn điều kiện đã cài đặt. Điều kiện này được thay đổi thường xuyên. Hôm nay điều kiện đó là “Số nhận được phải chia hết cho 3”. Số nhận được có thể bắt đầu bằng các chữ số 0. Xâu “000” sẽ lớn hơn xâu “00”.\n",
    "<br> <br> Hãy xác định khóa mở cửa.\n",
    "\n",
    "**Dữ liệu** \n",
    "Vào từ thiết bị nhập chuẩn gồm một xâu ký tự số có độ dài lớn hơn 2 và không vượt quá $10^5$.\n",
    "\n",
    "**Kết quả** \n",
    "Đưa ra thiết bị xuất chuẩn xâu khóa mở cửa.\n",
    "\n",
    "**Ví dụ**\n",
    "\\begin{array}{|c|c|}\n",
    "Input&Output\\\\ \\hline\n",
    "105 & 510\n",
    "\\end{array}"
   ]
  },
  {
   "cell_type": "markdown",
   "metadata": {
    "id": "jrLnkjS8jj4R"
   },
   "source": [
    "## Abstraction"
   ]
  },
  {
   "cell_type": "markdown",
   "metadata": {
    "id": "1dRPZ0TSqv_i"
   },
   "source": [
    "\n",
    "Với dãy các số nguyên từ 0 tới 9 cho trước, hãy tạo thành số tự nhiên lớn nhất bằng cách ghép, sắp xếp (có thể bỏ đi 1 vài số) thỏa điều kiện số tự nhiên này chia hết cho 3."
   ]
  },
  {
   "cell_type": "markdown",
   "metadata": {
    "id": "07gBFA9ijbH9"
   },
   "source": [
    "## Pattern recognition"
   ]
  },
  {
   "cell_type": "markdown",
   "metadata": {
    "id": "sBiWSjLaqv_j"
   },
   "source": [
    "\n",
    "* Đây là bài toán xử lí một chuỗi.\n",
    "* Đặc điểm nhận dạng: cho một chuỗi sau đó phải xuất ra chuỗi thỏa điều kiện đề bài."
   ]
  },
  {
   "cell_type": "markdown",
   "metadata": {
    "id": "j2WwpzuUiJia"
   },
   "source": [
    "## Algorithm design"
   ]
  },
  {
   "cell_type": "markdown",
   "metadata": {
    "id": "G4bK31wCksot"
   },
   "source": [
    "* Giải thích sơ qua về cách giải quyết bài toán và OUTPUT của nó:\n",
    "    + Với trường hợp  **chia hết cho 3**, ta chỉ việc sắp xếp lại chuỗi.\n",
    "    + Với trường hợp **chia 3 dư 1**, sẽ bao gồm hai trường hợp nhỏ như sau:\n",
    "        * Một, là ta xóa 1 phần tử nhỏ nhất trong chuỗi mà **chia 3 dư 1**.\n",
    "        * Hai, là ta xóa lần lượt 2 phần tử nhỏ nhất trong chuỗi mà **chia 3 dư 2**.\n",
    "    + Với trường hợp **chia 3 dư 2**, ta làm **ngược lại** trường hợp trên như sau:\n",
    "        * Một, là ta xóa 1 phần tử nhỏ nhất trong chuỗi mà **chia 3 dư 2**.\n",
    "        * Hai, là ta xóa lần lượt 2 phần tử nhỏ nhất trong chuỗi mà **chia 3 dư 1**.\n",
    "    + **OUTPUT** chính là chuỗi được tạo ra từ các quy tắc bên trên và sẽ được sắp xếp giảm dần từ trái sang phải.    \n",
    "* Phương pháp thiết kế thuật toán:\n",
    "  * Bước 1: Đầu tiên, ta cần tính tổng các chữ số của số đó\n",
    "  * Bước 2: Sau đó, ta sắp xếp các chữ số theo thứ tự giảm dần:\n",
    "    * Nếu tổng đồng dư với 3 thì qua bước 3\n",
    "    * Ngược lại, ta sẽ xóa (theo quy tắc đã nói như trên) lần lượt các chữ số nhỏ nhất (khác 0) đến khi số đó đồng dư với 3. Ta có thể chứng minh được rằng chỉ cần xóa ít nhất là 1 phần tử và tối đa là 2 phần tử để thỏa yêu cầu lấy ra được chuỗi dài nhất có thể.\n",
    "  * Bước 3: Trả về kết quả và kết thúc thuật toán.\n",
    "* Ý tưởng đơn giản là vậy, nhưng khi cụ thể hóa chúng ta có thể lợi dụng Counter từ collections để có được 1 thuật toán đơn giản và dễ hiểu được trình bày rõ ràng và giải thích cụ thể ở phần Programming phía dưới."
   ]
  },
  {
   "cell_type": "markdown",
   "metadata": {
    "id": "CQmBdUuyfwCq"
   },
   "source": [
    " ## Complexity evaluate"
   ]
  },
  {
   "cell_type": "markdown",
   "metadata": {
    "id": "FsU4hjX7fwCp"
   },
   "source": [
    "\n",
    "\n",
    "* Time complexity : $O(nlog(n))$\n",
    "\n",
    "\n",
    "* Space complexity : $O(1)$"
   ]
  },
  {
   "cell_type": "markdown",
   "metadata": {
    "id": "Nx9bGQNCiwc1"
   },
   "source": [
    "## Programming"
   ]
  },
  {
   "cell_type": "code",
   "execution_count": 4,
   "metadata": {
    "colab": {
     "base_uri": "https://localhost:8080/"
    },
    "id": "VQVkjFoph-v2",
    "outputId": "154e3709-3807-422e-d169-d6fc96278c1a"
   },
   "outputs": [
    {
     "name": "stdout",
     "output_type": "stream",
     "text": [
      "\n",
      "CPU times: user 683 µs, sys: 0 ns, total: 683 µs\n",
      "Wall time: 690 µs\n"
     ]
    }
   ],
   "source": [
    "%%time\n",
    "from sys import stdin, stdout\n",
    "from collections import Counter\n",
    "\n",
    "n = stdin.readline().strip()\n",
    "count = Counter(n) #khởi tạo bộ đếm n vd: (Counter({'5':1,'1':1,'0':1,})) đếm số lượng phần tử của từng kí tự trongg n\n",
    "tong = sum(map(int, n)) % 3 #tính tổng các chữ số và gán số dư của số đó khi chia cho 3 vào tong\n",
    "\n",
    "du = [[]] * 3 #tạo mảng 2 chiều có 3 phần tử, mỗi phần tử là 1 mảng 1 chiều\n",
    "du[1] = ['1', '4', '7'] #khởi tạo giá trị cho phần tử thứ 2 ứng với số dư là 1 khi chia cho 3\n",
    "du[2] = ['2', '5', '8'] #khởi tạo giá trị cho phần tử thứ 3 ứng với số dư là 2 khi chia cho 3\n",
    "du = [[x for x in d if x in count] for d in du] #tạo du ứng với phần tử vừa phải xuất hiện trong du và count\n",
    "\n",
    "if tong: #kiểm tra tong khác 0 hay không?\n",
    "    d = sum(count[x] for x in du[tong]) #tính tổng số lượng số có số dư = tong\n",
    "    c = 1\n",
    "    if not d: #kiểm tra d=1 hay không?\n",
    "        c = 2\n",
    "        tong = 3 - tong #gán tong bằng phần dư tương ứng với tong\n",
    "    for x in du[tong]: #tìm số x trong du có số dư = tong\n",
    "        t = min(c, count[x]) #gán t = min(c,số lần xuất hiện của x) để đảm bảo là luôn trừ lượng nhỏ nhất ra\n",
    "        c -= t #giảm c=t\n",
    "        count[x] -= t #giảm phần tử x t số\n",
    "\n",
    "for x in sorted(count.keys(), reverse=True): #sắp xếp dựa trên giá trị của key theo thứ tự giảm dần và in ra\n",
    "    stdout.write(x * count[x]) #in ra số lần số số đó\n",
    "print()"
   ]
  }
 ],
 "metadata": {
  "colab": {
   "collapsed_sections": [],
   "name": "Bản_sao_của_khoa_so (1).ipynb",
   "provenance": [],
   "toc_visible": true
  },
  "kernelspec": {
   "display_name": "Python 3",
   "language": "python",
   "name": "python3"
  },
  "language_info": {
   "codemirror_mode": {
    "name": "ipython",
    "version": 3
   },
   "file_extension": ".py",
   "mimetype": "text/x-python",
   "name": "python",
   "nbconvert_exporter": "python",
   "pygments_lexer": "ipython3",
   "version": "3.9.1"
  }
 },
 "nbformat": 4,
 "nbformat_minor": 1
}
