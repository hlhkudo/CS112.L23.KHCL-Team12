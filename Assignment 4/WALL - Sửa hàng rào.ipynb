{
  "nbformat": 4,
  "nbformat_minor": 0,
  "metadata": {
    "kernelspec": {
      "display_name": "Python 3",
      "language": "python",
      "name": "python3"
    },
    "language_info": {
      "codemirror_mode": {
        "name": "ipython",
        "version": 3
      },
      "file_extension": ".py",
      "mimetype": "text/x-python",
      "name": "python",
      "nbconvert_exporter": "python",
      "pygments_lexer": "ipython3",
      "version": "3.9.1"
    },
    "colab": {
      "name": "H-Index.ipynb",
      "provenance": []
    }
  },
  "cells": [
    {
      "cell_type": "markdown",
      "metadata": {
        "id": "WpaA8E5AiJiR"
      },
      "source": [
        "# Sửa hàng rào #\n",
        "##ĐỀ BÀI##"
      ]
    },
    {
      "cell_type": "markdown",
      "metadata": {
        "id": "Qabig-GtiJiY"
      },
      "source": [
        "Sau khi dựng xong nhà kho chứa cỏ, dì Poly quyết định dùng ***m*** tấm gỗ còn thừa gia cố hàng rào của vườn rau ngăn không cho gà vào phá và giao công việc này cho Tôm và Hấc Phin làm. Nhiệm vụ của hai cậu bé tội nghiệp là đóng thêm vào các tấm ván hàng rào để có hàng rào mới càng cao càng tốt. Nhìn vẽ mặt buồn thiu và lóng ngóng của 2 đứa Jim quyết định sẽ làm giúp. Hàng rào được ghép từ ***n*** tấm gỗ cùng độ rộng như nhau và bằng độ rộng của các tấm gỗ còn thừa, tấm thứ ***i*** có độ cao ***ai, i = 1 ÷ n***. Tôm và Hấc Phin chỉ phải xếp các tấm còn thừa lên xe ba gác để Jim kéo đi. Các tấm gỗ được xếp thành một chồng, tính từ trên xuống tấm thứ ***j*** có độ dài ***bj, j = 1 ÷ m***. Jim kéo xe ba gác đi dọc theo hàng rào. Đến một tấm nào đó muốn gia cố Jim sẽ lấy một tấm gỗ từ xe đóng tiếp lên tấm gỗ trên hàng rào và độ cao mới của tấm này trên hàng rào sẽ là tổng độ cao của tấm cũ và tấm mới đóng thêm. Jim chỉ đóng thêm một tấm mới vào tấm cũ vì muốn đảm bảo độ chắc chắn của hàng rào. Jim có thể lấy tấm trên cùng ở xe hoặc vất ra khỏi xe một số tấm cho đến khi gặp tấm vừa ý. Người ta vẫn nói “Khôn đâu tới trẻ, khỏe đâu tới già!”  Jim đã đứng tuổi và không còn sức để xếp lại các tấm gỗ bị bỏ ra vào xe. Ngoài ra, Jim cũng khá mê tín nên không quay lại lấy những tấm đã loại.\n",
        "\n",
        "Hãy xác định độ cao lớn nhất có thể đạt được của hàng rào sau khi gia cố. Độ cao của hàng rào được tính bằng độ cao tấm gỗ thấp nhất trên hàng rào.\n",
        "\n",
        "Dữ liệu: Vào từ thiết bị nhập chuẩn:\n",
        "\n",
        "*Dòng đầu tiên chứa số nguyên n (1 ≤ n ≤ 105),\n",
        "\n",
        "*Dòng thứ 2 chứa n số nguyên a1, a2, . . ., an (1 ≤ ai ≤ 108, i = 1 ÷ n),\n",
        "\n",
        "*Dòng thứ 3 chứa số nguyên m  (1 ≤ m ≤ 105),\n",
        "\n",
        "*Dòng cuối cùng chứ m số nguyên b1, b2, . . ., bm (1 ≤ bj ≤ 108, j = 1÷ m).\n",
        "\n",
        "Kết quả: Đưa ra thiết bị xuất chuẩn, dòng đầu tiên chứa 2 số nguyên h và k – độ cao lớn nhất có thể của hàng rào và số tấm gỗ đã được đóng thêm, mỗi dòng trong k dòng tiếp theo chứa 2 số nguyên x và y, trong đó x – tấm gỗ trên hàng rào được đóng cao hơn, y – tấm gỗ được dùng để đóng. Đưa ra phương án có các số hiệu tấm ván được chọn là nhỏ nhất nếu tồn tại nhiều cách đóng khác nhau.\n",
        "\n",
        "**Ví dụ**:\n",
        "\n",
        "**Input:** \n",
        "\n",
        "6\n",
        "\n",
        "2 5 4 1 7 5\n",
        "\n",
        "7\n",
        "\n",
        "2 3 1 3 2 4 6\n",
        "\n",
        "**Output:**\n",
        "\n",
        "5 3\n",
        "\n",
        "1 2\n",
        "\n",
        "3 3\n",
        "\n",
        "4 6"
      ]
    },
    {
      "cell_type": "markdown",
      "metadata": {
        "id": "q9GmBkL6iJiZ"
      },
      "source": [
        "## Abstraction\n",
        "\n",
        "Tìm cách chọn các phần tử của mảng **B** cộng vào các phần tử thuộc mảng **A** sao cho phần tử nhó nhất của mảng **B** có giá trị lớn nhất, chọn theo quy tắc duyệt mảng lần lượt theo chỉ số từ nhỏ tới lớn, đến phần tử thứ ***i*** của mảng b có quyền chọn để cộng vào phần tử đang xét của mảng **A** (cũng duyệt theo thứ tự chỉ số tăng dần) hay không và khi đã bỏ qua thì không được quyền chọn lại."
      ]
    },
    {
      "cell_type": "markdown",
      "metadata": {
        "id": "fjo3daWXiJiZ"
      },
      "source": [
        "## Pattern recognition\n",
        "\n",
        "Sủ dụng Binary Search (tìm kiếm nhị phân)."
      ]
    },
    {
      "cell_type": "markdown",
      "metadata": {
        "id": "atu91YbZiJia"
      },
      "source": [
        "## Algorithm design\n",
        "\n",
        "* B1: \n",
        "\n",
        "Ta chọn cận trái và cận phải của tập giá trị tìm kiếm. Cận trái là giá trị nhỏ nhất của mảng A, cận phải là tổng giá trị nhỏ nhất của dãy A và giá trị lớn nhất của dãy B.\n",
        "\n",
        "Chọn phần tử trung vị của tập tìm kiếm và kiểm tra, (xem lại hàm T), nếu kết quả trả về là True (có thể tạo được dãy mới sao cho giá trị nhỏ nhất thỏa mãn phần tử trung vị) thì tiếp tục thử ở đoạn bên phải, nếu kết quả trả về False thì tìm ở đoạn bên trái.(chạy vòng lặp)\n",
        "\n",
        "* B2: Kiểm tra lựa chọn \n",
        "\n",
        "Kiểm tra từng phần tử trong A cộng thêm phần tử ở dãy B có lớn hơn phần tử trung vị được chọn không, nếu không thỏa thì chọn phần tử tiếp theo của dãy B. Nếu duyệt hết dãy A thì trả về True, nếu dãy A chưa thỏa hết mà không còn phần tử dãy B thì trả về False. (True, False dựa vào Hàm T ở B1)\n",
        "\n",
        "* B3: Tìm chọn giá trị nhỏ nhất sau cùng sử dụng phương pháp tìm kiếm nhị phân\n",
        "\n",
        "Nhập các giá trị biến vào sau đó chạy Binary Search rồi gọi hàm chạy để ra kết quả cuối cùng.\n",
        "\n"
      ]
    },
    {
      "cell_type": "markdown",
      "metadata": {
        "id": "TMeVqsf7iJia"
      },
      "source": [
        "## Complexity evaluate\n",
        "\n",
        "* Time complexity : $O(nlog(n))$\n",
        "\n",
        "\n"
      ]
    },
    {
      "cell_type": "markdown",
      "metadata": {
        "id": "j2WwpzuUiJia"
      },
      "source": [
        "## Programming"
      ]
    },
    {
      "cell_type": "code",
      "metadata": {
        "id": "OzqBZLigiJib",
        "colab": {
          "base_uri": "https://localhost:8080/"
        },
        "outputId": "dc92b913-696c-4907-c63f-912623bac885"
      },
      "source": [
        "%%time\n",
        "def T(n, m ,a ,b , h):                      #Hàm kiểm tra giá trị chiều cao để hàng rào có thể thay đổi đc chiều cao hay không?\n",
        "\tt1 = [x for x in a if x < h]\n",
        "\tt1_ = len(t1)\n",
        "\ti=0\n",
        "\tif t1_ == 0:                              #Các thanh gỗ đều cao hơn hàng rào thì trả về True\n",
        "\t\treturn True\n",
        "\n",
        "\tfor bj in b:                              # Ngược lại tìm các miếng gỗ trong dãy B để đóng thêm sao cho các thanh gỗ dãy A cao hơn chiều cao hàng rào\n",
        "\t\tif t1[i] + bj >= h: \n",
        "\t\t\ti += 1\n",
        "\t\tif i == t1_:       \n",
        "\t\t\treturn True\n",
        "\treturn False                             # Nếu đã tìm hết dãy B nhưng dãy A không đạt chiều cao thì trả về False\n",
        "\n",
        "def KQ(n, m ,a ,b , h):                    # Hàm kiểm tra lựa chọn một cách tối ưu\n",
        "\tta = [ x for x in range(n) if a[x] < h]  # Chạy vòng lặp có điều kiện rồi khởi tạo giá trị\n",
        "\tn_ta = len(ta)                  \n",
        "\ti=0\n",
        "\tj=0\t\n",
        "\ttemp_result= ''       \n",
        "\tif n_ta == 0:                            #Kiểm tra giá trị bằng 0      \n",
        "\t\treturn '',0\n",
        "\tfor j in range(m):                       #Tương tự như B1\n",
        "\t\tif a[ta[i]] + b[j] >= h:                                    \n",
        "\t\t\ttemp_result += str(ta[i]+1) +' '+ str(j+1) + '\\n'         \n",
        "\t\t\ti += 1\n",
        "\t\tif i == n_ta:\n",
        "\t\t\treturn temp_result,n_ta\n",
        "\n",
        "\n",
        "def wall():   \n",
        "\tn = int(input())                         #Nhập vào các giá trị lần lượt\n",
        "\ta = [int(i) for i in input().split()]\n",
        "\tm = int(input())\n",
        "\tb = [int(i) for i in input().split()]\n",
        "\tleft = 0                                 #Khởi tạo các giá trị ban đầu\n",
        "\tright = 200000001\n",
        "\th = 0\n",
        "\tk = 0\n",
        "\tkab = 0\n",
        "\twhile(left < right):                     #Chia nhị phân tìm độ cao\n",
        "\t\tmid = (left+right)//2                  #Tính trung vị của 2 dãy\n",
        "\t\tt_ = T(n,m,a,b,mid)                    #Kiểm tra độ cao có thỏa mãn hay ko?\n",
        "\t\tif t_==True:                           #True thì mở rộng chiều cao để tìm giá trị tốt nhất\n",
        "\t\t\tleft = mid + 1\n",
        "\t\telse:                                  #False thì thu hẹp để tìm giá trị tốt nhất\n",
        "\t\t\tright = mid         \n",
        "\th = left - 1                      \n",
        "\tkab, k = KQ(n,m,a,b,h)                   #Gọi lại hàm để kiểm tra lựa chọn      \n",
        "\tprint(h,k)                               #Kết quả\n",
        "\tprint(kab)\n",
        " \n",
        "wall()"
      ],
      "execution_count": 2,
      "outputs": [
        {
          "output_type": "stream",
          "text": [
            "6\n",
            "2 5 4 1 7 5\n",
            "7\n",
            "2 3 1 3 2 4 6\n",
            "5 3\n",
            "1 2\n",
            "3 3\n",
            "4 6\n",
            "\n",
            "CPU times: user 97.6 ms, sys: 13.7 ms, total: 111 ms\n",
            "Wall time: 22.1 s\n"
          ],
          "name": "stdout"
        }
      ]
    }
  ]
}