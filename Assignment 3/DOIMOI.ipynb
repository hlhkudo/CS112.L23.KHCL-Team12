{
 "cells": [
  {
   "cell_type": "markdown",
   "metadata": {},
   "source": [
    "# Đổi mới (0.1s, 50MB)\n",
    "\n",
    "Thành phố quyết định chặt hạ hết **n** cây xanh hiện có trong thành phố để trồng chỉ một loại cây mới. Nhiệm vụ được giao cho Công ty Cây xanh thành phố. Do hạn chế về thiết bị Công ty chỉ tổ chức được 2 đội đốn hạ cây. Đội I hạ được **a** cây mỗi ngày, nhưng cứ mối ngày thứ **k** thì phải nghỉ để bảo dưỡng kỹ thuật, tức là đội I sẽ nghỉ vào các ngày **k**, 2**k**, 3**k**, . . . Đội II hạ được **b** cây mỗi ngày, nhưng cứ mỗi ngày thứ **m** thì phải nghỉ để bảo dưỡng kỹ thuật, tức là đội II sẽ nghỉ vào các ngày **m**, 2**m**, 3**m**, . . . Ở ngày nghỉ, số cây chặt hạ của đội sẽ là 0. Cả hai đội bắt đầu công việc vào cùng một ngày và làm việc song song với nhau.\n",
    "\n",
    "Công việc trồng cây mới sẽ bắt đầu sau khi toàn bộ cây cũ đã bị đốn hạ.\n",
    "\n",
    "Hãy xác định sau bao nhiêu ngày thì có thể bắt đầu việc trồng mới cây.\n",
    "\n",
    "**Dữ liệu:** Vào từ thiết bị nhập chuẩn gồm một dòng chứa 5 số nguyên **a**, **k**, **b**, **m** và **n** $(1 ≤ a, b ≤ 10^9, 2 ≤ k, m ≤ 10^{18}, 1 ≤ n ≤ 10^{18})$.\n",
    "\n",
    "**Kết quả:** Đưa ra thiết bị xuất chuẩn một số nguyên – số ngày tính được.\n",
    "\n",
    "**Ví dụ:** \n",
    "\n",
    "INPUT : 2 4 3 3 25\n",
    "\n",
    "OUTPUT: 7"
   ]
  },
  {
   "cell_type": "markdown",
   "metadata": {},
   "source": [
    "## Abstraction     \n",
    "Tìm $x$ nhỏ nhất sao cho $F(x) = a(x - x//k) + b(x - x//m) ≥ n$ với $1 ≤ a, b ≤ 10^9, 2 ≤ k, m ≤ 10^{18}, 1 ≤ n ≤ 10^{18}$. Với:\n",
    "* $x$ là ngày cần tìm\n",
    "* $F(x)$ là số cây hạ được của ngày đó\n",
    "* Các thông số còn lại $(a, k, b, m$ và $n)$ như đề"
   ]
  },
  {
   "cell_type": "markdown",
   "metadata": {},
   "source": [
    "## Pattern recognition\n",
    "\n",
    "* **Dạng bài toán** : Vét cạn.\n",
    "\n",
    "* **Đặc điểm nhận biết** : Tìm x nhỏ nhất sao cho thỏa bất phương trình F(x)."
   ]
  },
  {
   "cell_type": "markdown",
   "metadata": {},
   "source": [
    "## Algorithm  design\n",
    "* Với bài toán trên, ta có thể dễ dàng liên tưởng đến Vét cạn, cứ tính số cây và số ngày cho đến khi nào nhận được kết quả thỏa yêu cầu bài toán. Nhưng với cách thuần Vét cạn thì sẽ xuất hiện một nhược điểm chí mạng sau, nếu gặp trường hợp xấu nhất ***n*** nhập vào là $10^18$ thì thời gian để chạy chương trình này sẽ rất lâu, và với giới hạn 0.1s, 50MB là bất khả thi. Vì vậy mà chúng ta sẽ tiếp cận bài toán theo một hướng mới, vẫn là Vét cạn nhưng lần này chúng ta không \"vét\" từ đầu đến cuối, mà sẽ chọn ra một đoạn giá trị gần với giá trị đúng nhất để Vét cạn, làm như thế sẽ giảm được số vòng lặp đồng thời tốc độ xử lý của chương trình cũng nhanh hơn.\n",
    "\n",
    "\n",
    "* Đầu tiên, ta tạo một hàm dùng để kiểm tra số lượng cây có đúng với điều kiện $F(x) ≥ n$ hay không. Nếu hàm đúng thì ta trả về giá trị 1, ngược lại thì ta trả về giá trị 0.\n",
    "\n",
    "\n",
    "* Tiếp theo, ta tạo một hàm dùng để tính ngày mà cả 2 đội cần để chặt hết **n** cây. Ta cho chạy vòng lặp, bên trong vòng lặp gọi hàm để kiểm tra, nếu đúng thì gán kết quả vào biến lưu trữ, cập nhật lại giá trị điểm xét và tiếp tục vòng lặp để chọn ra số nhỏ nhất thỏa yêu cầu bài toán, nếu sai thì cập nhật lại giá trị điểm cần xét và tiếp tục vòng lặp. Cứ thế cho đến khi tìm ra kết quả thì in ra màn hình."
   ]
  },
  {
   "cell_type": "markdown",
   "metadata": {},
   "source": [
    "## Complexity evaluation\n",
    "\n",
    "**Time complexity** : $O(log(n))$ với ***n*** là độ dài đoạn giá trị chứa nghiệm thỏa mãn yêu cầu bài toán, trong trường hợp này là số lượng cây cần phải hạ."
   ]
  },
  {
   "cell_type": "markdown",
   "metadata": {},
   "source": [
    "## Programming"
   ]
  },
  {
   "cell_type": "code",
   "execution_count": 27,
   "metadata": {},
   "outputs": [
    {
     "name": "stdout",
     "output_type": "stream",
     "text": [
      "2 4 3 3 25\n",
      "7\n",
      "Wall time: 85.9 ms\n"
     ]
    }
   ],
   "source": [
    "%%time\n",
    "def kiemtra(x, a, k, b, m, n):\n",
    "    tree = a*(x - x//k) + b*(x - x//m) #biểu thức F(x)\n",
    "    if tree >= n: #kiểm tra so với lượng cây của input\n",
    "        return 1 #đúng trả về 1\n",
    "    else:\n",
    "        return 0 #sai trả về 0\n",
    "    \n",
    "def tinhngay(dau, cuoi, a, k, b, m, n):\n",
    "    while dau <= cuoi: #điều kiện vòng lặp được tạo ra để xét hết các giá trị thỏa yêu cầu nhưng phải tìm ra giá trị nhỏ nhất\n",
    "        giua = (dau + cuoi) #2 #tiếp cận theo cách mới, lấy giá trị ở giựa đoạn để xét\n",
    "        if kiemtra(giua, a, k, b, m, n) == 1: #nếu hàm kiểm tra đúng\n",
    "            kq = giua #gán giua cho biến kq vì đó là ngày có số câu >= n\n",
    "            cuoi = giua - 1 #cập nhật giá trị cuoi = giua - 1, lúc này đoạn cần xét là (dau; giua-1)            \n",
    "            #vẫn tiếp tục vòng lặp vì có thể đây chưa là kq nhỏ nhất >= n            \n",
    "        else:\n",
    "            dau = giua + 1 #cập nhật giá trị dau = dau + 1, lúc này đoạn cần xét là (dau+1; giua)\n",
    "    return kq #trả về giá trị kq\n",
    "\n",
    "a, k, b, m, n = map(int, input().split()) #nhập input\n",
    "print(tinhngay(1, n, a, k, b, m, n)) #xuất output"
   ]
  }
 ],
 "metadata": {
  "kernelspec": {
   "display_name": "Python 3",
   "language": "python",
   "name": "python3"
  },
  "language_info": {
   "codemirror_mode": {
    "name": "ipython",
    "version": 3
   },
   "file_extension": ".py",
   "mimetype": "text/x-python",
   "name": "python",
   "nbconvert_exporter": "python",
   "pygments_lexer": "ipython3",
   "version": "3.9.1"
  }
 },
 "nbformat": 4,
 "nbformat_minor": 4
}
