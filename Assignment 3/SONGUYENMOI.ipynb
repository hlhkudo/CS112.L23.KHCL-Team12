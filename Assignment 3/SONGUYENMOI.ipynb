{
 "cells": [
  {
   "cell_type": "markdown",
   "metadata": {
    "id": "uR1csHYWqv_h"
   },
   "source": [
    "# SỐ NGUYÊN MỚI (0.1s, 50MB)\n",
    "**Đề bài**\n",
    "\n",
    "> Cho số nguyên dương ***n*** có không quá 100 chữ số. \n",
    "<br> Hãy xác định số nguyên lớn nhất ***m*** chia hết cho 3 và khác ***n*** ở đúng một chữ số.\n",
    "<br> Ví dụ, ***n*** = 123 thì ***m*** sẽ là 723.\n",
    "\n",
    "**Dữ liệu** \n",
    "> Vào từ thiết bị nhập chuẩn gồm một dòng chứa số nguyên ***n*** có không quá 100 chữ số và không chứa các số 0 không có nghĩa.\n",
    "\n",
    "**Kết quả** \n",
    "> Đưa ra thiết bị xuất chuẩn số nguyên ***m*** tìm được.\n",
    "\n",
    "\\begin{array}{|c|c|}\n",
    "Input&Output\\\\ \\hline\n",
    "123 & 723\n",
    "\\end{array}"
   ]
  },
  {
   "cell_type": "markdown",
   "metadata": {
    "id": "jrLnkjS8jj4R"
   },
   "source": [
    "## Abstraction"
   ]
  },
  {
   "cell_type": "markdown",
   "metadata": {
    "id": "1dRPZ0TSqv_i"
   },
   "source": [
    "Với số nguyên dương ***n*** nhập vào từ bàn phím (không quá 100 chữ số), hãy tìm số nguyên dương ***m*** lớn nhất chia hết cho 3 và khác ***n*** (input) đúng 1 chữ số."
   ]
  },
  {
   "cell_type": "markdown",
   "metadata": {
    "id": "07gBFA9ijbH9"
   },
   "source": [
    "## Pattern recognition"
   ]
  },
  {
   "cell_type": "markdown",
   "metadata": {
    "id": "sBiWSjLaqv_j"
   },
   "source": [
    "Đây là bài toán số học **Tìm số lớn nhất chia hết cho 3 áp dụng tính chất tổng các phần tử chia hết cho 3**.\n",
    "\n",
    "Khi tiếp cận bài toán này, ta sẽ nghĩ tới một số chú ý sau:\n",
    "* Ta sẽ tìm một số duy nhất trong các chữ số của số n để thay đổi sao cho số này có tổng chia hết cho 3 và lớn hơn số ban đầu.\n",
    "* Để số mới là số lớn nhất và chia hết cho 3, ta sẽ thay đổi chữ số đầu tiên của n (nếu được).\n",
    "* Nếu không được, ta sẽ thay đổi chữ số tiếp theo (nếu được).\n",
    "* Nếu không được, ta tiếp tục thay đổi chữ số tiếp theo (nếu được)....\n",
    "* Nếu đến chữ số cuối cùng của n vẫn không thay đổi được, ta sẽ trừ n một số r là số dư khi n chia cho 3 (r ∈ {1,2,3}). Khi đó ta sẽ được số m là số nguyên lớn nhất thỏa điều kiện\n",
    "* Tới chữ số cuối cùng nếu n vẫn không thay đổi được, ta sẽ trừ n một số dư r thõa r là số dư của n cho 3 thì khi đó ta sẽ tìm được số m là số lớn nhất thỏa yêu cầu bài toán"
   ]
  },
  {
   "cell_type": "markdown",
   "metadata": {
    "id": "j2WwpzuUiJia"
   },
   "source": [
    "## Algorithm design"
   ]
  },
  {
   "cell_type": "markdown",
   "metadata": {
    "id": "G4bK31wCksot"
   },
   "source": [
    "\n",
    "***Phương pháp thiết kế thuật toán:***\n",
    "  * Bước 1: Đầu tiên, tính số dư cần thiết để chia hết cho 3, gán ck = 0.\n",
    "  * Bước 2: Sau đó dựa vào số chữ số của n, ta duyệt qua từng chữ số của n:\n",
    "    * Nếu tổng các chữ số+ cộng với số dư cần thiết nhỏ hơn 10, thêm giá trị cho chữ số đang xét để chia hết cho 3, cập nhận lại ck=1 và đưa tới bước 3.\n",
    "    * Ngược lại, chữ số đang xét khi cộng 3 có lớn hơn 10 không? Cộng m bằng cộng chữ số đang xét 3 đơn vị. Kiểm tra có là chữ số cuối cùng hay không? TH không chia hết cho 3: tính số dư của m khi chia cho 3 và gán ngược lại cần thiết. TH chia hết cho 3: gán ngược lại lượng cần thiết cộng thêm để chia hết cho 3, sau đó đưa tới bước 3.\n",
    "  * Bước 3: Dừng lại, in kết quả và kết thúc thuật toán."
   ]
  },
  {
   "cell_type": "markdown",
   "metadata": {
    "id": "CQmBdUuyfwCq"
   },
   "source": [
    " ## Complexity evaluate"
   ]
  },
  {
   "cell_type": "markdown",
   "metadata": {
    "id": "FsU4hjX7fwCp"
   },
   "source": [
    "\n",
    "\n",
    "* Time complexity : $O(nlog(n)+n)$\n",
    "\n",
    "\n",
    "* Space complexity : $O(n)$"
   ]
  },
  {
   "cell_type": "markdown",
   "metadata": {
    "id": "Nx9bGQNCiwc1"
   },
   "source": [
    "## Programming"
   ]
  },
  {
   "cell_type": "code",
   "execution_count": null,
   "metadata": {
    "id": "VQVkjFoph-v2"
   },
   "outputs": [],
   "source": [
    "%%time\n",
    "from sys import stdin, stdout #sài stdin,stdout để nhập input nhanh hơn\n",
    "n = stdin.readline().strip() # nhập n,kiểu chuỗi\n",
    "\n",
    "sodu = 3 -int(n)%3 #tính số dư cần thiết để chia hết cho 3(dư 0 thì cần 3,dư 1 cần 2,dư 2 cần 1)\n",
    "l = len(n) #số chữ số của n\n",
    "ck = 0\n",
    "m = int(n) #ép thành số\n",
    "\n",
    "for i in range(l): #duyệt qua các chữ số của l\n",
    "    \n",
    "    #bước 1\n",
    "    \n",
    "    if m//10**(l-i-1)%10+sodu<10: # nếu tổng các chữ số+ cộng với số dư cần thiết nhỏ hơn 10\n",
    "        m = m + sodu*10**(l-i-1) # thêm giá trị cho chữ số đang xét để chia hết cho 3(sodu*10*(vị trí trong hàng thập phân))\n",
    "        ck = 1 #cập nhận lại ck=1 \n",
    "    \n",
    "    #bước 2\n",
    "    \n",
    "    while(ck==1 and m//10**(l-i-1)%10+3<10): #cái chữ số đang xét khi cộng 3 có lớn hơn 10 không\n",
    "        m = m + 3*10**(l-i-1) #cộng m bằng cộng chữ số đang xét 3 đơn vị(vd m=923 thì khi duyệt đến số 2 thì ở bước trên m'=933(cộng vào ở bước 1 để chia hết cho 3), khi đó ta sẽ cộng tiếp vào hàng chục(đơn vị số 2) để nó lớn nhất có thể \n",
    "        \n",
    "    if ck ==1:\n",
    "        break #dừng lại và in ra kết quả bài toán\n",
    "    \n",
    "    #kiểm tra có là chữ số cuối cùng hay không\n",
    "\n",
    "    if m%3!=0 and i == l-1: #TH không chia hết cho 3\n",
    "        x=m%3 #số dư của m khi chia cho 3\n",
    "        m = m - x # gán ngược lại lượng cần thiết cộng thêm để chia hết cho 3\n",
    "        break\n",
    "\n",
    "    if m%3==0 and i==l-1: #TH chia hết cho 3\n",
    "        m=m-3 #gán ngược lại lượng cần thiết cộng thêm để chia hết cho 3\n",
    "\n",
    "print(m) #in kết quả"
   ]
  },
  {
   "cell_type": "markdown",
   "metadata": {},
   "source": [
    "123\n",
    "\n",
    "723"
   ]
  }
 ],
 "metadata": {
  "colab": {
   "collapsed_sections": [],
   "name": "Bản_sao_của_khoa_so (1).ipynb",
   "provenance": [],
   "toc_visible": true
  },
  "kernelspec": {
   "display_name": "Python 3",
   "language": "python",
   "name": "python3"
  },
  "language_info": {
   "codemirror_mode": {
    "name": "ipython",
    "version": 3
   },
   "file_extension": ".py",
   "mimetype": "text/x-python",
   "name": "python",
   "nbconvert_exporter": "python",
   "pygments_lexer": "ipython3",
   "version": "3.9.1"
  }
 },
 "nbformat": 4,
 "nbformat_minor": 1
}
