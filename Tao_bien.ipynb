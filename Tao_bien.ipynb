{
 "cells": [
  {
   "cell_type": "markdown",
   "metadata": {},
   "source": [
    "# Tảo biển (1s, 50MB)\n",
    "\n",
    "Tảo biển sinh sản rất nhanh khi có môi trường thuận lợi với chúng và có những loài còn tiết ra môi trường những chất độc hại.\n",
    "\n",
    "Một loại tảo nâu trong môi trường nước bị ô nhiễm nặng sinh sản theo quy luật sau:\n",
    "\n",
    "* Ngày đầu tiên (ngày 0) có **n** cá thể ở mức 1.\n",
    "* Ở mỗi ngày tiếp theo, mỗi cá thể mức **i** sinh ra **i** cá thể mức 1, các cá thể mới sinh sẽ sinh sôi, phát triển từ ngày hôm sau.\n",
    "* Bản thân các cá thể mức **i** phát triển thành mức **i+1** và chu kỳ phát triển trong ngày chấm dứt.\n",
    "\n",
    "Hãy xác định sau **k** ngày trong nước biển có bao nhiêu cá thể.\n",
    "\n",
    "**Dữ liệu**: Vào từ thiết bị nhập chuẩn gồm một dòng chứa 2 số nguyên **n** và **k** $(1 ≤ n ≤ 1000, 1 ≤ k ≤ 10^{17} )$.\n",
    "\n",
    "**Kết quả**: Đưa ra thiết bị xuất chuẩn một số nguyên – số lượng cá thể tảo theo mô đun $10^{9} + 7$.\n",
    "\n",
    "**Ví dụ**:\n",
    "\n",
    "Input : 3 2\n",
    "\n",
    "Output: 15"
   ]
  },
  {
   "cell_type": "markdown",
   "metadata": {},
   "source": [
    "## Abstraction\n",
    "\n",
    "Với n, k nhập vào từ bàn phím $(1 ≤ n ≤ 1000, 1 ≤ k ≤ 10^{17})$. Tính $n.Fibo(2k + 1)) \\% (10^{9} + 7)$."
   ]
  },
  {
   "attachments": {
    "screenshot_1616578604.png": {
     "image/png": "[encoded data removed]"
    }
   },
   "cell_type": "markdown",
   "metadata": {},
   "source": [
    "## Pattern recognition\n",
    "\n",
    "Bài toán tính theo công thức dãy Fibonacci $F(n) = F(n - 1) + F(n - 2)$.\n",
    "\n",
    "Dễ dàng nhận thấy quy luật trên khi lập bảng giá trị như sau:\n",
    "![screenshot_1616578604.png](attachment:screenshot_1616578604.png)"
   ]
  },
  {
   "cell_type": "markdown",
   "metadata": {},
   "source": [
    "## Algorithm designed\n",
    "\n",
    "Như đã nói trên, đây là một bài toán có dạng giống với bài toán tính dãy số Fibonacci.\n",
    "\n",
    "Nếu như dãy Fibonacci có công thức $F(k) = F(k - 1) + F(k - 2)$ thì dãy Fibonacci trong bài này là $n.Fibo(2k + 1)) \\% (10^{9} + 7)$.\n",
    "\n",
    "Và chúng ta có đoạn chương trình sau:"
   ]
  },
  {
   "cell_type": "code",
   "execution_count": 4,
   "metadata": {},
   "outputs": [
    {
     "name": "stdout",
     "output_type": "stream",
     "text": [
      "3 2\n",
      "15\n",
      "Wall time: 1.6 s\n"
     ]
    }
   ],
   "source": [
    "%%time\n",
    "n,k = map(int,input().split())\n",
    "def fibo(n):\n",
    "    f0 = 0\n",
    "    f1 = 1\n",
    "    fn = 1\n",
    "    if (n == 1):\n",
    "        return n\n",
    "    else:\n",
    "        for i in range(2, n):\n",
    "            f0 = f1\n",
    "            f1 = fn\n",
    "            fn = f0 + f1\n",
    "        return fn\n",
    "print((n * fibo(2*k + 1)) % (10**9 + 7))"
   ]
  },
  {
   "cell_type": "markdown",
   "metadata": {},
   "source": [
    "Nhưng lại xuất hiện vấn đề khác đó là nếu chúng ta nhập vào số **k** đủ lớn thì thời gian thực thi chương trình sẽ rất lâu.\n",
    "\n",
    "Vì vậy chúng ta phải tìm cách giải quyết khác. \n",
    "\n",
    "Cụ thể ở đây thì chúng mình đề xuất nên sử dụng thuật toán **Biến đổi Fourier nhanh (FFT)** kết hợp với thuật toán **Chia để trị** để tính Fibonacci bằng **Ma trận** sẽ giúp thực hiện bài toán nhanh hơn rất nhiều.\n",
    "\n",
    "Cụ thể, ta có công thức như sau:\n",
    "\n",
    "$$\\begin{bmatrix}\n",
    "f(n) & f(n-1) \\\\ \n",
    "f(n-1) & f(n-2) \n",
    "\\end{bmatrix}=\n",
    "\\begin{bmatrix}\n",
    "1 & 1 \\\\ \n",
    "1 & 0\n",
    "\\end{bmatrix}^{n-1}$$\n",
    "\n",
    "Với $f(n)$ là giá trị cần tìm."
   ]
  },
  {
   "cell_type": "markdown",
   "metadata": {},
   "source": [
    "Thuật toán **Biến đổi Fourier nhanh (FFT)**:"
   ]
  },
  {
   "cell_type": "code",
   "execution_count": null,
   "metadata": {},
   "outputs": [],
   "source": [
    "MOD = 1000000007\n",
    "\n",
    "def multiply(F,M):       #Nhân 2 ma trận F và M\n",
    "  a = (F[0][0] * M[0][0] +  F[0][1] * M[1][0]) % MOD\n",
    "  b = (F[0][0] * M[0][1] +  F[0][1] * M[1][1]) % MOD\n",
    "  c = (F[1][0] * M[0][0] +  F[1][1] * M[1][0]) % MOD\n",
    "  d = (F[1][0] * M[0][1] +  F[1][1] * M[1][1]) % MOD\n",
    "  F[0][0] = a            #Gán giá trị mới vào ma trận F\n",
    "  F[0][1] = b\n",
    "  F[1][0] = c\n",
    "  F[1][1] = d"
   ]
  },
  {
   "cell_type": "markdown",
   "metadata": {},
   "source": [
    "Thuật toán **Chia để trị**:"
   ]
  },
  {
   "cell_type": "code",
   "execution_count": null,
   "metadata": {},
   "outputs": [],
   "source": [
    "def power(F,n):          #Tính F^n\n",
    "  if n == 0 or n == 1:   #Nếu n=0 hoặc n=1 thì out ra\n",
    "    return\n",
    "  M = [[1,1],[1,0]]      #Khởi tạo ma trận đơn vị M\n",
    "  power(F, n // 2)       #Nếu là số chẵn thì = F^(n/2) * F^(n/2)\n",
    "  multiply(F,F)          \n",
    "  if n % 2 != 0:         #Nếu là số lẽ thì = F^(n/2) * F^(n/2) * F\n",
    "    multiply(F,M)"
   ]
  },
  {
   "cell_type": "markdown",
   "metadata": {},
   "source": [
    "Hàm main:"
   ]
  },
  {
   "cell_type": "code",
   "execution_count": null,
   "metadata": {},
   "outputs": [],
   "source": [
    "def fibonacci(n):\n",
    "  F = [[1,1],[1,0]]      #Khởi tạo ma trận đơn vị F\n",
    "  if n == 0:    \n",
    "    return 0             #Nếu n=0 thì trả về 0\n",
    "  power(F, n - 1)        #Tính F^(n-1)\n",
    "  return F[0][0]         #Trả về giá trị F(n) cần tìm\n",
    "\n",
    "n, k = map(int,input().split())\n",
    "print(n*fibonacci(2*k+1) % MOD)"
   ]
  },
  {
   "cell_type": "markdown",
   "metadata": {},
   "source": [
    "## Complexity evaluate\n",
    "\n",
    "* Time complexity : \n",
    "1. Thuật toán For - Loop: $O(n)$\n",
    "2. Thuật toán tính **Fibonacci** bằng **Ma trận** kết hợp với **Biến đổi Fourier nhanh (FFT)** và **Chia để trị**: $O\\log(n)$"
   ]
  },
  {
   "cell_type": "markdown",
   "metadata": {},
   "source": [
    "## Programming"
   ]
  },
  {
   "cell_type": "code",
   "execution_count": 13,
   "metadata": {},
   "outputs": [
    {
     "name": "stdout",
     "output_type": "stream",
     "text": [
      "3 2\n",
      "15\n",
      "Wall time: 953 ms\n"
     ]
    }
   ],
   "source": [
    "%%time\n",
    "MOD = 1000000007\n",
    "\n",
    "def multiply(F,M):\n",
    "  a = (F[0][0] * M[0][0] +  F[0][1] * M[1][0]) % MOD\n",
    "  b = (F[0][0] * M[0][1] +  F[0][1] * M[1][1]) % MOD\n",
    "  c = (F[1][0] * M[0][0] +  F[1][1] * M[1][0]) % MOD\n",
    "  d = (F[1][0] * M[0][1] +  F[1][1] * M[1][1]) % MOD\n",
    "  F[0][0] = a\n",
    "  F[0][1] = b\n",
    "  F[1][0] = c\n",
    "  F[1][1] = d\n",
    "    \n",
    "def power(F,n):\n",
    "  if n == 0 or n == 1:\n",
    "    return\n",
    "  M = [[1,1],[1,0]]\n",
    "  power(F, n // 2)  \n",
    "  multiply(F,F)\n",
    "  if n % 2 != 0:\n",
    "    multiply(F,M)\n",
    "    \n",
    "def fibonacci(n):\n",
    "  F = [[1,1],[1,0]]\n",
    "  if n == 0:\n",
    "    return 0\n",
    "  power(F, n - 1)\n",
    "  return F[0][0]\n",
    "\n",
    "n, k = map(int,input().split())\n",
    "print(n*fibonacci(2*k+1) % MOD)"
   ]
  }
 ],
 "metadata": {
  "kernelspec": {
   "display_name": "Python 3",
   "language": "python",
   "name": "python3"
  },
  "language_info": {
   "codemirror_mode": {
    "name": "ipython",
    "version": 3
   },
   "file_extension": ".py",
   "mimetype": "text/x-python",
   "name": "python",
   "nbconvert_exporter": "python",
   "pygments_lexer": "ipython3",
   "version": "3.9.1"
  }
 },
 "nbformat": 4,
 "nbformat_minor": 4
}
