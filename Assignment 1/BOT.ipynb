{
 "cells": [
  {
   "cell_type": "markdown",
   "metadata": {},
   "source": [
    "# BOT\n",
    "\n",
    "**BOT** (*Built-Operation-Transfer*, có nghĩa: Xây dựng-Vận hành-Chuyển giao) là hình thức Chính phủ kêu gọi các công ty bỏ vốn xây dựng trước (*Built*) thông qua đấu thầu, sau đó khai thác vận hành một thời gian (*Operation*) và sau cùng là chuyển giao (*Transfer*) lại cho nhà nước sở tại.\n",
    "\n",
    "Đường cao tốc xuyên quốc gia được xây dựng theo hình thức BOT. Công ty Đa quốc gia *Modern Highway* trúng thầu, chia toàn bộ con đường thành **n** đoạn. Theo tính toán của Công ty sau khi chuyển giao con đường cho chính phủ sở tại quản lý thì lãi thu được ở đoạn đường thứ **i** là $a_i$, $a_i$có thể dương, âm hoặc bằng 0, tức là với từng đoạn con có thể lãi, lỗ hoặc hòa vốn. Từng nhóm các đoạn đường liên tiếp nhau (gọi tắt là khoảng) được chia cho các công ty con thực hiện. Công ty con *ASEAM Highway* hiện đang có trụ sở ở nước sở tại được quyền chọn trước khoảng tùy ý (có thể là cả con đường).\n",
    "\n",
    "Dĩ nhiên Ban Giám đốc *ASEAM Highway* muốn chọn khoảng bắt đầu từ đoạn **p** đến hết đoạn **q** mang lại lợi nhuận cao nhất hoặc lỗ ít nhất nếu không có khoảng nào cho lãi.\n",
    "\n",
    "Hãy chỉ ra khoảng cần chọn và lãi thu được. Nếu có nhiều cách chọn thì chỉ ra cách chọn có **p** nhỏ nhất.\n",
    "\n",
    "**Dữ liệu đầu**: Vào từ thiết bị nhập chuẩn:\n",
    "* Dòng đầu tiên chứa số nguyên **n** ($1 ≤ n ≤ 10^6$)\n",
    "* Dòng thứ 2 chứa **n** số nguyên $a_1, a_2, . . ., a_n (0 ≤ |a_i| ≤ 10^\n",
    "  9, i = \\frac{1}{n})$.\n",
    "\n",
    "**Kết quả**: Đưa ra thiết bị xuất chuẩn trên một dòng 2 số nguyên **p**, **q** và lãi thu được.\n",
    "\n",
    "**Ví dụ**:\n",
    "\n",
    "InputT:\n",
    "\n",
    "16\n",
    "\n",
    "2 -4 5 -8 4 -1 -1 1 1 1 -2 2 4 -6 9 -4\n",
    "\n",
    "Output:\n",
    "\n",
    "5 15 12\n",
    "\n",
    "## Abstraction\n",
    "\n",
    "Cho $1<=n<=10^6$, và mảng a ($0<=|a_i|<=10^9, i = \\frac{1}{n})$, tìm ra khoảng từ **p** đến **q** sao cho tổng giá trị của các phần tử trong khoảng thu được là cao nhất (với **p** là giá trị tại điểm bắt đầu **q** là giá trị tại điểm kết thúc).\n",
    "\n",
    "## Pattern Recognition\n",
    "\n",
    "Đây là bài toán tìm dãy con liên tục có tổng lớn nhất, có vị trí bắt đầu là **p** và vị trí kết thúc là **q** mà sao cho tổng lớn nhất (lãi cao nhất).\n",
    "\n",
    "## Algorithm designed\n",
    "\n",
    "* Thuật toán: **Kadane’s algorithm**\n",
    "\n",
    "* Algorithmic Paradigm: **Dynamic Programming**\n",
    "\n",
    "* Kadane’s Algorithm:"
   ]
  },
  {
   "cell_type": "code",
   "execution_count": null,
   "metadata": {},
   "outputs": [],
   "source": [
    "Initialize:\n",
    "    max_so_far = 0\n",
    "    max_ending_here = 0\n",
    "\n",
    "Loop for each element of the array\n",
    "  (a) max_ending_here = max_ending_here + a[i]\n",
    "  (b) if(max_so_far < max_ending_here)\n",
    "            max_so_far = max_ending_here\n",
    "  (c) if(max_ending_here < 0)\n",
    "            max_ending_here = 0\n",
    "return max_so_far"
   ]
  },
  {
   "cell_type": "markdown",
   "metadata": {},
   "source": [
    "* Ý tưởng đơn giản của thuật toán Kadane là tìm kiếm tất cả các phân đoạn liền kề dương của mảng (max_ending_here). Và theo dõi tổng phân đoạn liền kề tối đa trong số tất cả các phân đoạn dương (max_so_far). Mỗi lần chúng ta nhận được một tổng dương so sánh nó với max_so_far và cập nhật max_so_far nếu nó lớn hơn max_so_far.\n",
    "\n",
    "Ta sẽ làm rõ thuật toán trên thông qua ví dụ sau:\n",
    "\n",
    "Ta có mảng sau: {-2, -3, 4, -1, -2, 1, 5, -3}\n",
    "\n",
    "    max_so_far = max_ending_here = 0\n",
    "\n",
    "    for i=0,  a[0] =  -2\n",
    "    max_ending_here = max_ending_here + (-2)\n",
    "    Set max_ending_here = 0 because max_ending_here < 0\n",
    "\n",
    "    for i=1,  a[1] =  -3\n",
    "    max_ending_here = max_ending_here + (-3)\n",
    "    Set max_ending_here = 0 because max_ending_here < 0\n",
    "\n",
    "    for i=2,  a[2] =  4\n",
    "    max_ending_here = max_ending_here + (4)\n",
    "    max_ending_here = 4\n",
    "    max_so_far is updated to 4 because max_ending_here greater \n",
    "    than max_so_far which was 0 till now\n",
    "\n",
    "    for i=3,  a[3] =  -1\n",
    "    max_ending_here = max_ending_here + (-1)\n",
    "    max_ending_here = 3\n",
    "\n",
    "    for i=4,  a[4] =  -2\n",
    "    max_ending_here = max_ending_here + (-2)\n",
    "    max_ending_here = 1\n",
    "\n",
    "    for i=5,  a[5] =  1\n",
    "    max_ending_here = max_ending_here + (1)\n",
    "    max_ending_here = 2\n",
    "\n",
    "    for i=6,  a[6] =  5\n",
    "    max_ending_here = max_ending_here + (5)\n",
    "    max_ending_here = 7\n",
    "    max_so_far is updated to 7 because max_ending_here is \n",
    "    greater than max_so_far\n",
    "\n",
    "    for i=7,  a[7] =  -3\n",
    "    max_ending_here = max_ending_here + (-3)\n",
    "    max_ending_here = 4"
   ]
  },
  {
   "cell_type": "markdown",
   "metadata": {},
   "source": [
    "## Complexity evaluate\n",
    "\n",
    "$O(n)$\n",
    "\n",
    "## Programming"
   ]
  },
  {
   "cell_type": "code",
   "execution_count": 8,
   "metadata": {},
   "outputs": [
    {
     "name": "stdout",
     "output_type": "stream",
     "text": [
      "16\n",
      "2 -4 5 -8 4 -1 -1 1 1 1 -2 2 4 -6 9 -4\n",
      "5 15 12\n",
      "Wall time: 1.79 s\n"
     ]
    }
   ],
   "source": [
    "%%time\n",
    "def maxSubArraySum(a,size):\n",
    "    max_so_far = 0\n",
    "    max_ending_here = 0\n",
    "    start = 0\n",
    "    end = 0\n",
    "    s = 0\n",
    "    for i in range(0,size):\n",
    "        max_ending_here += a[i]\n",
    "        if max_so_far < max_ending_here:\n",
    "            max_so_far = max_ending_here\n",
    "            start = s\n",
    "            end = i\n",
    "        if max_ending_here < 0:\n",
    "            max_ending_here = 0\n",
    "            s = i+1\n",
    "    s1=str(start+1)+\" \"+str(end+1)+\" \"+str(max_so_far)\n",
    "    return s1\n",
    "n=int(input())  \n",
    "a=[int(i) for i in input().split()]\n",
    "print(maxSubArraySum(a,len(a)))"
   ]
  },
  {
   "cell_type": "markdown",
   "metadata": {},
   "source": [
    "**GHI CHÚ:** bài Báo Cáo trên có sử dụng tài liệu tham khảo tại trang web https://www.geeksforgeeks.org/largest-sum-contiguous-subarray/"
   ]
  }
 ],
 "metadata": {
  "kernelspec": {
   "display_name": "Python 3",
   "language": "python",
   "name": "python3"
  },
  "language_info": {
   "codemirror_mode": {
    "name": "ipython",
    "version": 3
   },
   "file_extension": ".py",
   "mimetype": "text/x-python",
   "name": "python",
   "nbconvert_exporter": "python",
   "pygments_lexer": "ipython3",
   "version": "3.9.1"
  }
 },
 "nbformat": 4,
 "nbformat_minor": 4
}
